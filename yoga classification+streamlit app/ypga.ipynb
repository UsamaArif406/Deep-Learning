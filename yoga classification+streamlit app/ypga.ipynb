{
 "cells": [
  {
   "cell_type": "code",
   "execution_count": 2,
   "metadata": {
    "id": "nHSd7CWeCey9"
   },
   "outputs": [],
   "source": [
    "from tensorflow.keras.preprocessing.image import ImageDataGenerator\n",
    "import pandas as pd\n",
    "from sklearn.model_selection import train_test_split"
   ]
  },
  {
   "cell_type": "code",
   "execution_count": 153,
   "metadata": {
    "id": "9U1ofyqnD9UN"
   },
   "outputs": [],
   "source": [
    "train_datagen=ImageDataGenerator(\n",
    "    rescale=1./255,\n",
    "    validation_split=0.3,\n",
    "    \n",
    ")\n",
    "\n",
    "\n"
   ]
  },
  {
   "cell_type": "code",
   "execution_count": 154,
   "metadata": {
    "id": "7vMnjSEhEkSA"
   },
   "outputs": [],
   "source": [
    "test_dataset_path = 'C:\\\\Users\\\\Sam\\\\Downloads\\\\Compressed\\\\TEST'\n",
    "train_dataset_path = 'C:\\\\Users\\\\Sam\\\\yoga classification\\\\train'"
   ]
  },
  {
   "cell_type": "code",
   "execution_count": 155,
   "metadata": {},
   "outputs": [],
   "source": [
    "datagen=ImageDataGenerator(\n",
    "rescale=1./255)"
   ]
  },
  {
   "cell_type": "code",
   "execution_count": 86,
   "metadata": {
    "colab": {
     "base_uri": "https://localhost:8080/"
    },
    "id": "WuwM40WTEpwR",
    "outputId": "1050040b-2b66-4f39-8980-d2bc02533a8e"
   },
   "outputs": [
    {
     "name": "stdout",
     "output_type": "stream",
     "text": [
      "Found 694 images belonging to 5 classes.\n"
     ]
    }
   ],
   "source": [
    "train_generator = train_datagen.flow_from_directory(\n",
    "    train_dataset_path,\n",
    "    target_size=(150, 150),\n",
    "    batch_size=32,\n",
    "    class_mode='categorical',\n",
    "    subset='training',\n",
    "    shuffle=True,\n",
    "    color_mode='rgb'\n",
    ")"
   ]
  },
  {
   "cell_type": "code",
   "execution_count": 87,
   "metadata": {
    "colab": {
     "base_uri": "https://localhost:8080/"
    },
    "id": "rSTRA-XlLxSF",
    "outputId": "43f8a0dd-1208-4c76-924d-e5ecf2c45436"
   },
   "outputs": [
    {
     "name": "stdout",
     "output_type": "stream",
     "text": [
      "Found 294 images belonging to 5 classes.\n"
     ]
    }
   ],
   "source": [
    "valid_generator=train_datagen.flow_from_directory(\n",
    "    train_dataset_path,\n",
    "   target_size=(150,150),\n",
    "    batch_size=32,\n",
    "    class_mode='categorical',\n",
    "    subset='validation',\n",
    "    color_mode='rgb'\n",
    ")"
   ]
  },
  {
   "cell_type": "code",
   "execution_count": 156,
   "metadata": {},
   "outputs": [
    {
     "name": "stdout",
     "output_type": "stream",
     "text": [
      "Found 470 images belonging to 5 classes.\n"
     ]
    }
   ],
   "source": [
    "test_generator=datagen.flow_from_directory(\n",
    "   test_dataset_path,\n",
    "   target_size=(150,150),\n",
    "    batch_size=32,\n",
    "    class_mode='categorical',\n",
    ")"
   ]
  },
  {
   "cell_type": "code",
   "execution_count": 62,
   "metadata": {
    "id": "1xSEVYh2FQ8H"
   },
   "outputs": [],
   "source": [
    "# images,labels=train_generator.next()"
   ]
  },
  {
   "cell_type": "code",
   "execution_count": 63,
   "metadata": {
    "id": "MjN1vR7aIm4P"
   },
   "outputs": [],
   "source": [
    "# print(f'Image shape is {images.shape}')"
   ]
  },
  {
   "cell_type": "code",
   "execution_count": 64,
   "metadata": {
    "id": "QULhbj2PIw_H"
   },
   "outputs": [],
   "source": [
    "# print(f'label shape is {labels.shape}')"
   ]
  },
  {
   "cell_type": "code",
   "execution_count": null,
   "metadata": {
    "id": "jRRpf8q1JOZm"
   },
   "outputs": [],
   "source": []
  },
  {
   "cell_type": "markdown",
   "metadata": {
    "id": "jVa03vjdLXHq"
   },
   "source": [
    "**Converting Images valus to dataframe for analysis**"
   ]
  },
  {
   "cell_type": "code",
   "execution_count": 65,
   "metadata": {
    "id": "jqNqTWtLc8n8"
   },
   "outputs": [],
   "source": [
    "# images_array=images"
   ]
  },
  {
   "cell_type": "code",
   "execution_count": 66,
   "metadata": {
    "id": "7tAtRg5Ndogh"
   },
   "outputs": [],
   "source": [
    "# import numpy as np\n",
    "# # import pandas as pd\n",
    "# import seaborn as sns"
   ]
  },
  {
   "cell_type": "code",
   "execution_count": 67,
   "metadata": {
    "id": "2BHnUI73cSrY"
   },
   "outputs": [],
   "source": [
    "# images_df = pd.DataFrame(images_array.reshape(images_array.shape[0], -1))"
   ]
  },
  {
   "cell_type": "code",
   "execution_count": 68,
   "metadata": {
    "id": "rhSkMvENcgD9"
   },
   "outputs": [],
   "source": [
    "# classes=list(train_generator.class_indices.keys())"
   ]
  },
  {
   "cell_type": "code",
   "execution_count": null,
   "metadata": {
    "id": "puSyZOk6c0Hp"
   },
   "outputs": [],
   "source": []
  },
  {
   "cell_type": "code",
   "execution_count": 69,
   "metadata": {
    "id": "_-xNwE_3dYHH"
   },
   "outputs": [],
   "source": [
    "# original_class_names = [classes[i] for i in np.argmax(labels, axis=1)]\n",
    "\n",
    "# Convert the original class names to a pandas DataFrame\n",
    "# labels_df = pd.DataFrame(original_class_names, columns=['class'])"
   ]
  },
  {
   "cell_type": "code",
   "execution_count": 70,
   "metadata": {
    "id": "iz5MmlS8dzOt"
   },
   "outputs": [],
   "source": [
    "# Concatenating images and labels DataFrames horizontally\n",
    "# df = pd.concat([images_df, labels_df], axis=1)"
   ]
  },
  {
   "cell_type": "code",
   "execution_count": 71,
   "metadata": {
    "id": "0lzzMYWXd47F"
   },
   "outputs": [],
   "source": [
    "# df.head()"
   ]
  },
  {
   "cell_type": "code",
   "execution_count": 72,
   "metadata": {
    "id": "_hyIljHvd6Gq"
   },
   "outputs": [],
   "source": [
    "# sns.histplot(data=df,kde=True)"
   ]
  },
  {
   "cell_type": "markdown",
   "metadata": {
    "id": "QO1_xlFuNJIj"
   },
   "source": [
    "**Creating a CNN model**"
   ]
  },
  {
   "cell_type": "code",
   "execution_count": 88,
   "metadata": {
    "id": "vxH63MUteQ8c"
   },
   "outputs": [],
   "source": [
    "from tensorflow.keras.models import Sequential\n",
    "from tensorflow.keras.layers import Conv2D,MaxPooling2D,Flatten,Dense, Dropout"
   ]
  },
  {
   "cell_type": "code",
   "execution_count": 109,
   "metadata": {
    "id": "zbN5cgTsNQVQ"
   },
   "outputs": [],
   "source": [
    "model=Sequential()\n",
    "model.add(Conv2D(32,(3, 3), activation='relu', input_shape=(150,150,3)))\n",
    "model.add(MaxPooling2D(2,2))\n",
    "\n",
    "model.add(Conv2D(64,(3,3),activation='relu'))\n",
    "model.add(MaxPooling2D(2,2))\n",
    "\n",
    "model.add(Conv2D(128,(3,3),activation='relu'))\n",
    "model.add(MaxPooling2D(2,2))\n",
    "\n",
    "model.add(Flatten())\n",
    "\n",
    "#fully connected layer\n",
    "model.add(Dense(128,activation='relu'))\n",
    "model.add(Dropout(0.65))\n",
    "model.add(Dense(5, activation='softmax'))\n",
    "\n",
    "model.compile(optimizer='adam', loss='categorical_crossentropy', metrics=['accuracy'])"
   ]
  },
  {
   "cell_type": "code",
   "execution_count": 110,
   "metadata": {
    "colab": {
     "base_uri": "https://localhost:8080/"
    },
    "id": "-YE9Y3WlNuc7",
    "outputId": "f244f8e0-5ae1-4037-984c-e66d0efb4e2e"
   },
   "outputs": [
    {
     "name": "stdout",
     "output_type": "stream",
     "text": [
      "Model: \"sequential_12\"\n",
      "_________________________________________________________________\n",
      " Layer (type)                Output Shape              Param #   \n",
      "=================================================================\n",
      " conv2d_36 (Conv2D)          (None, 148, 148, 32)      896       \n",
      "                                                                 \n",
      " max_pooling2d_36 (MaxPooli  (None, 74, 74, 32)        0         \n",
      " ng2D)                                                           \n",
      "                                                                 \n",
      " conv2d_37 (Conv2D)          (None, 72, 72, 64)        18496     \n",
      "                                                                 \n",
      " max_pooling2d_37 (MaxPooli  (None, 36, 36, 64)        0         \n",
      " ng2D)                                                           \n",
      "                                                                 \n",
      " conv2d_38 (Conv2D)          (None, 34, 34, 128)       73856     \n",
      "                                                                 \n",
      " max_pooling2d_38 (MaxPooli  (None, 17, 17, 128)       0         \n",
      " ng2D)                                                           \n",
      "                                                                 \n",
      " flatten_12 (Flatten)        (None, 36992)             0         \n",
      "                                                                 \n",
      " dense_24 (Dense)            (None, 128)               4735104   \n",
      "                                                                 \n",
      " dropout_12 (Dropout)        (None, 128)               0         \n",
      "                                                                 \n",
      " dense_25 (Dense)            (None, 5)                 645       \n",
      "                                                                 \n",
      "=================================================================\n",
      "Total params: 4828997 (18.42 MB)\n",
      "Trainable params: 4828997 (18.42 MB)\n",
      "Non-trainable params: 0 (0.00 Byte)\n",
      "_________________________________________________________________\n"
     ]
    }
   ],
   "source": [
    "model.summary()"
   ]
  },
  {
   "cell_type": "code",
   "execution_count": 111,
   "metadata": {
    "colab": {
     "base_uri": "https://localhost:8080/"
    },
    "id": "uJN9y3lfQTau",
    "outputId": "bcde835d-9a41-492f-977d-3d6abc7ace9c",
    "scrolled": false
   },
   "outputs": [
    {
     "name": "stdout",
     "output_type": "stream",
     "text": [
      "Epoch 1/10\n",
      "22/22 [==============================] - 17s 721ms/step - loss: 1.7432 - accuracy: 0.2522 - val_loss: 1.3728 - val_accuracy: 0.5340\n",
      "Epoch 2/10\n",
      "22/22 [==============================] - 15s 681ms/step - loss: 1.3078 - accuracy: 0.4582 - val_loss: 0.9019 - val_accuracy: 0.7041\n",
      "Epoch 3/10\n",
      "22/22 [==============================] - 15s 680ms/step - loss: 0.9710 - accuracy: 0.6527 - val_loss: 0.5684 - val_accuracy: 0.7755\n",
      "Epoch 4/10\n",
      "22/22 [==============================] - 15s 680ms/step - loss: 0.7889 - accuracy: 0.6945 - val_loss: 0.4874 - val_accuracy: 0.8231\n",
      "Epoch 5/10\n",
      "22/22 [==============================] - 15s 697ms/step - loss: 0.5757 - accuracy: 0.7925 - val_loss: 0.3792 - val_accuracy: 0.8639\n",
      "Epoch 6/10\n",
      "22/22 [==============================] - 15s 685ms/step - loss: 0.4746 - accuracy: 0.8213 - val_loss: 0.3316 - val_accuracy: 0.8844\n",
      "Epoch 7/10\n",
      "22/22 [==============================] - 15s 691ms/step - loss: 0.3402 - accuracy: 0.8790 - val_loss: 0.3153 - val_accuracy: 0.8844\n",
      "Epoch 8/10\n",
      "22/22 [==============================] - 16s 729ms/step - loss: 0.3125 - accuracy: 0.8977 - val_loss: 0.3228 - val_accuracy: 0.8980\n",
      "Epoch 9/10\n",
      "22/22 [==============================] - 16s 731ms/step - loss: 0.2930 - accuracy: 0.8948 - val_loss: 0.3044 - val_accuracy: 0.8844\n",
      "Epoch 10/10\n",
      "22/22 [==============================] - 16s 730ms/step - loss: 0.2257 - accuracy: 0.9438 - val_loss: 0.2582 - val_accuracy: 0.9150\n"
     ]
    }
   ],
   "source": [
    "# Assuming you have `train_generator` and `valid_generator` already defined from earlier\n",
    "from keras.callbacks import EarlyStopping\n",
    "\n",
    "# Define number of epochs\n",
    "epochs = 10\n",
    "\n",
    "# Define early stopping callback\n",
    "early_stopping = EarlyStopping(monitor='val_loss', patience=3, restore_best_weights=True)\n",
    "\n",
    "# Fit the model\n",
    "history = model.fit(\n",
    "    train_generator,\n",
    "    epochs=epochs,\n",
    "    validation_data=valid_generator,\n",
    "    callbacks=[early_stopping]\n",
    ")\n"
   ]
  },
  {
   "cell_type": "code",
   "execution_count": 138,
   "metadata": {},
   "outputs": [],
   "source": [
    "true_classes=test_generator.classes"
   ]
  },
  {
   "cell_type": "code",
   "execution_count": 157,
   "metadata": {},
   "outputs": [
    {
     "name": "stdout",
     "output_type": "stream",
     "text": [
      "15/15 [==============================] - 19s 1s/step\n"
     ]
    }
   ],
   "source": [
    "predicted_classes=model.predict(test_generator)"
   ]
  },
  {
   "cell_type": "code",
   "execution_count": 158,
   "metadata": {},
   "outputs": [],
   "source": [
    "predicted_classes=np.argmax((predicted_classes),axis=1)"
   ]
  },
  {
   "cell_type": "code",
   "execution_count": 161,
   "metadata": {},
   "outputs": [
    {
     "name": "stdout",
     "output_type": "stream",
     "text": [
      "15/15 [==============================] - 20s 1s/step\n"
     ]
    },
    {
     "data": {
      "text/plain": [
       "<Axes: >"
      ]
     },
     "execution_count": 161,
     "metadata": {},
     "output_type": "execute_result"
    },
    {
     "data": {
      "image/png": "[encoded data removed]",
      "text/plain": [
       "<Figure size 640x480 with 2 Axes>"
      ]
     },
     "metadata": {},
     "output_type": "display_data"
    }
   ],
   "source": [
    "test_predictions = model.predict(test_generator, steps=len(test_generator))\n",
    "test_predicted_labels = np.argmax(test_predictions, axis=1)\n",
    "test_true_labels = test_generator.classes\n",
    "\n",
    "# Compute the confusion matrix\n",
    "conf_matrix = confusion_matrix(test_true_labels, test_predicted_labels)\n",
    "sns.heatmap(conf_matrix,annot=True)"
   ]
  },
  {
   "cell_type": "code",
   "execution_count": 160,
   "metadata": {},
   "outputs": [
    {
     "name": "stdout",
     "output_type": "stream",
     "text": [
      "Classification Report:\n",
      "              precision    recall  f1-score   support\n",
      "\n",
      "           0       0.14      0.13      0.14        97\n",
      "           1       0.21      0.26      0.23        80\n",
      "           2       0.26      0.23      0.25       115\n",
      "           3       0.11      0.12      0.11        69\n",
      "           4       0.14      0.13      0.13       109\n",
      "\n",
      "    accuracy                           0.18       470\n",
      "   macro avg       0.17      0.18      0.17       470\n",
      "weighted avg       0.18      0.18      0.18       470\n",
      "\n"
     ]
    }
   ],
   "source": [
    "cr=classification_report(test_true_labels, test_predicted_labels)"
   ]
  },
  {
   "cell_type": "code",
   "execution_count": 143,
   "metadata": {},
   "outputs": [
    {
     "data": {
      "image/png": "[encoded data removed]",
      "text/plain": [
       "<Figure size 1200x400 with 2 Axes>"
      ]
     },
     "metadata": {},
     "output_type": "display_data"
    }
   ],
   "source": [
    "import matplotlib.pyplot as plt\n",
    "\n",
    "#training and validation accuracy\n",
    "training_accuracy = history.history['accuracy']\n",
    "validation_accuracy = history.history['val_accuracy']\n",
    "\n",
    "#training and validation loss\n",
    "training_loss = history.history['loss']\n",
    "validation_loss = history.history['val_loss']\n",
    "\n",
    "#epochs range\n",
    "epochs_range = range(1, len(training_accuracy) + 1)\n",
    "\n",
    "# Plot accuracy\n",
    "plt.figure(figsize=(12, 4))\n",
    "plt.subplot(1, 2, 1)\n",
    "plt.plot(epochs_range, training_accuracy, label='Training Accuracy')\n",
    "plt.plot(epochs_range, validation_accuracy, label='Validation Accuracy')\n",
    "plt.xlabel('Epochs')\n",
    "plt.ylabel('Accuracy')\n",
    "plt.title('Training and Validation Accuracy')\n",
    "plt.legend()\n",
    "\n",
    "# Plot loss\n",
    "plt.subplot(1, 2, 2)\n",
    "plt.plot(epochs_range, training_loss, label='Training Loss')\n",
    "plt.plot(epochs_range, validation_loss, label='Validation Loss')\n",
    "plt.xlabel('Epochs')\n",
    "plt.ylabel('Loss')\n",
    "plt.title('Training and Validation Loss')\n",
    "plt.legend()\n",
    "\n",
    "plt.show()\n"
   ]
  },
  {
   "cell_type": "markdown",
   "metadata": {
    "id": "wRsOHYnzhXap"
   },
   "source": [
    "**Predictions on unseen data**"
   ]
  },
  {
   "cell_type": "code",
   "execution_count": 144,
   "metadata": {
    "id": "Lfo7N9e6f3g9"
   },
   "outputs": [
    {
     "name": "stderr",
     "output_type": "stream",
     "text": [
      "C:\\Users\\Sam\\anaconda3\\Lib\\site-packages\\keras\\src\\engine\\training.py:3103: UserWarning: You are saving your model as an HDF5 file via `model.save()`. This file format is considered legacy. We recommend using instead the native Keras format, e.g. `model.save('my_model.keras')`.\n",
      "  saving_api.save_model(\n"
     ]
    }
   ],
   "source": [
    "model.save('yoga_posses1.h5')"
   ]
  },
  {
   "cell_type": "code",
   "execution_count": null,
   "metadata": {},
   "outputs": [],
   "source": [
    "model.save('my_yoga_model.keras')"
   ]
  },
  {
   "cell_type": "code",
   "execution_count": 116,
   "metadata": {
    "id": "V8_vLOB7o00l"
   },
   "outputs": [],
   "source": [
    "import cv2 as cv\n",
    "import numpy as np\n",
    "import matplotlib.pyplot as plt"
   ]
  },
  {
   "cell_type": "code",
   "execution_count": null,
   "metadata": {
    "colab": {
     "base_uri": "https://localhost:8080/",
     "height": 430
    },
    "id": "uh7v4SbXo7ya",
    "outputId": "bc28b8d4-8d35-475f-8887-37c46b3e8cd4"
   },
   "outputs": [],
   "source": [
    "from keras.models import load_model\n",
    "\n",
    "\n",
    "loaded_model = load_model('my_yoga_model.keras')\n",
    "image=cv.imread('C:\\\\Users\\\\Sam\\\\Downloads\\\\Compressed\\\\archive_3\\\\DATASET\\\\TRAIN\\plank\\\\00000177.jpg')\n",
    "resized_image=cv.resize(image,(150,150))\n",
    "scaled_image=(resized_image/255)\n",
    "reshaped_img=scaled_image.reshape(1,150,150,3)\n",
    "prediction=np.argmax(loaded_model.predict(reshaped_img))\n",
    "if prediction ==0:\n",
    "  predicted_class='Downdog Pose'\n",
    "elif prediction==1:\n",
    "  predicted_class='Goddes Pose'\n",
    "elif prediction==2:\n",
    "  predicted_class='Plank Pose'\n",
    "elif prediction==3:\n",
    "  predicted_class='Tree Pose'\n",
    "elif prediction==4:\n",
    "  predicted_class='Warrior Pose'\n",
    "plt.imshow(image);\n",
    "plt.title(predicted_class);\n"
   ]
  },
  {
   "cell_type": "code",
   "execution_count": null,
   "metadata": {
    "id": "wU9qpL39zErT"
   },
   "outputs": [],
   "source": []
  },
  {
   "cell_type": "code",
   "execution_count": null,
   "metadata": {},
   "outputs": [],
   "source": []
  },
  {
   "cell_type": "code",
   "execution_count": null,
   "metadata": {},
   "outputs": [],
   "source": []
  },
  {
   "cell_type": "code",
   "execution_count": null,
   "metadata": {},
   "outputs": [],
   "source": []
  },
  {
   "cell_type": "code",
   "execution_count": null,
   "metadata": {},
   "outputs": [],
   "source": []
  },
  {
   "cell_type": "code",
   "execution_count": null,
   "metadata": {},
   "outputs": [],
   "source": []
  },
  {
   "cell_type": "code",
   "execution_count": null,
   "metadata": {},
   "outputs": [],
   "source": []
  },
  {
   "cell_type": "code",
   "execution_count": null,
   "metadata": {},
   "outputs": [],
   "source": []
  },
  {
   "cell_type": "code",
   "execution_count": null,
   "metadata": {},
   "outputs": [],
   "source": []
  },
  {
   "cell_type": "code",
   "execution_count": null,
   "metadata": {},
   "outputs": [],
   "source": []
  },
  {
   "cell_type": "code",
   "execution_count": null,
   "metadata": {},
   "outputs": [],
   "source": []
  },
  {
   "cell_type": "code",
   "execution_count": null,
   "metadata": {},
   "outputs": [],
   "source": []
  },
  {
   "cell_type": "code",
   "execution_count": null,
   "metadata": {},
   "outputs": [],
   "source": []
  },
  {
   "cell_type": "code",
   "execution_count": null,
   "metadata": {},
   "outputs": [],
   "source": []
  },
  {
   "cell_type": "code",
   "execution_count": null,
   "metadata": {},
   "outputs": [],
   "source": []
  }
 ],
 "metadata": {
  "accelerator": "GPU",
  "colab": {
   "gpuType": "T4",
   "provenance": []
  },
  "kernelspec": {
   "display_name": "Python 3 (ipykernel)",
   "language": "python",
   "name": "python3"
  },
  "language_info": {
   "codemirror_mode": {
    "name": "ipython",
    "version": 3
   },
   "file_extension": ".py",
   "mimetype": "text/x-python",
   "name": "python",
   "nbconvert_exporter": "python",
   "pygments_lexer": "ipython3",
   "version": "3.11.5"
  }
 },
 "nbformat": 4,
 "nbformat_minor": 1
}
