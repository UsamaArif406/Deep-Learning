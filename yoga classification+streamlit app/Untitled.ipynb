{
 "cells": [
  {
   "cell_type": "code",
   "execution_count": 8,
   "id": "36be4bcc",
   "metadata": {},
   "outputs": [
    {
     "name": "stdout",
     "output_type": "stream",
     "text": [
      "1/1 [==============================] - 0s 117ms/step\n",
      "1/1 [==============================] - 0s 42ms/step\n",
      "1/1 [==============================] - 0s 41ms/step\n",
      "1/1 [==============================] - 0s 39ms/step\n",
      "1/1 [==============================] - 0s 38ms/step\n"
     ]
    }
   ],
   "source": [
    "import cv2\n",
    "import numpy as np\n",
    "from keras.models import load_model\n",
    "\n",
    "# Load your trained model\n",
    "model = load_model('yoga_posses.h5')\n",
    "\n",
    "# Function to preprocess the input image\n",
    "def preprocess_image(image):\n",
    "    # Resize image to match model input size\n",
    "    resized_image = cv2.resize(image, (150, 150))\n",
    "    # Convert image to float32 and normalize pixel values\n",
    "    scaled_image = resized_image.astype('float32') / 255.0\n",
    "    # Reshape image to match expected input shape (1, height, width, channels)\n",
    "    reshaped_img = scaled_image.reshape(1, 150, 150, 3)\n",
    "    return reshaped_img\n",
    "\n",
    "# Function to predict the pose in an image\n",
    "def predict_pose(image):\n",
    "    preprocessed_image = preprocess_image(image)\n",
    "    # Get the predicted class index\n",
    "    prediction = np.argmax(model.predict(preprocessed_image))\n",
    "    return prediction\n",
    "\n",
    "# Access the live camera feed\n",
    "cap = cv2.VideoCapture(0)\n",
    "\n",
    "# Capture 5 pictures\n",
    "num_pictures = 0\n",
    "while num_pictures < 5:\n",
    "    # Capture frame-by-frame\n",
    "    ret, frame = cap.read()\n",
    "\n",
    "    # Check if frame is successfully read\n",
    "    if not ret:\n",
    "        print(\"Error: Failed to capture frame\")\n",
    "        break\n",
    "\n",
    "    # Predict pose\n",
    "    prediction = predict_pose(frame)\n",
    "\n",
    "    # Map predicted index to pose label\n",
    "    if prediction == 0:\n",
    "        predicted_class = 'Downdog Pose'\n",
    "    elif prediction == 1:\n",
    "        predicted_class = 'Goddess Pose'\n",
    "    elif prediction == 2:\n",
    "        predicted_class = 'Plank Pose'\n",
    "    elif prediction == 3:\n",
    "        predicted_class = 'Tree Pose'\n",
    "    elif prediction == 4:\n",
    "        predicted_class = 'Warrior Pose'\n",
    "\n",
    "    # Display the frame with predicted pose\n",
    "    cv2.putText(frame, \"Predicted Pose: \" + predicted_class, (10, 30), cv2.FONT_HERSHEY_SIMPLEX, 0.7, (0, 255, 0), 2)\n",
    "    cv2.imshow('Yoga Pose Classification', frame)\n",
    "\n",
    "    # Increment the number of captured pictures\n",
    "    num_pictures += 1\n",
    "\n",
    "    # Wait for a key press\n",
    "    cv2.waitKey(0)\n",
    "\n",
    "# Release the camera and close OpenCV windows\n",
    "cap.release()\n",
    "cv2.destroyAllWindows()\n"
   ]
  },
  {
   "cell_type": "markdown",
   "id": "3754fb2a",
   "metadata": {},
   "source": [
    "##### "
   ]
  }
 ],
 "metadata": {
  "kernelspec": {
   "display_name": "Python 3 (ipykernel)",
   "language": "python",
   "name": "python3"
  },
  "language_info": {
   "codemirror_mode": {
    "name": "ipython",
    "version": 3
   },
   "file_extension": ".py",
   "mimetype": "text/x-python",
   "name": "python",
   "nbconvert_exporter": "python",
   "pygments_lexer": "ipython3",
   "version": "3.11.5"
  }
 },
 "nbformat": 4,
 "nbformat_minor": 5
}
